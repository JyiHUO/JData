{
 "cells": [
  {
   "cell_type": "code",
   "execution_count": 1,
   "metadata": {
    "collapsed": true
   },
   "outputs": [],
   "source": [
    "import pandas as pd\n",
    "import numpy as np\n",
    "import datetime as dt\n",
    "from IPython.display import display"
   ]
  },
  {
   "cell_type": "code",
   "execution_count": 2,
   "metadata": {
    "collapsed": true
   },
   "outputs": [],
   "source": [
    "# 你可以导入其中的一个数据，或者自己concat完后再导入\n",
    "data = pd.read_csv('../second_data/JData_Action_201604.csv')"
   ]
  },
  {
   "cell_type": "code",
   "execution_count": 22,
   "metadata": {
    "collapsed": true
   },
   "outputs": [],
   "source": [
    "user = pd.read_csv('../second_data/JData_User.csv')\n",
    "product = pd.read_csv('../second_data/JData_Product.csv')\n",
    "comment = pd.read_csv('../second_data/JData_Comment.csv')"
   ]
  },
  {
   "cell_type": "markdown",
   "metadata": {},
   "source": [
    "# do some conversion"
   ]
  },
  {
   "cell_type": "code",
   "execution_count": 3,
   "metadata": {
    "collapsed": true
   },
   "outputs": [],
   "source": [
    "data['date'] = data.time.apply(lambda x: x.split(' ')[0])\n",
    "data['hour'] = data.time.apply(lambda x: x.split(' ')[1])"
   ]
  },
  {
   "cell_type": "code",
   "execution_count": 4,
   "metadata": {
    "collapsed": true
   },
   "outputs": [],
   "source": [
    "del data['time']\n",
    "del data['model_id']"
   ]
  },
  {
   "cell_type": "code",
   "execution_count": 5,
   "metadata": {
    "collapsed": false
   },
   "outputs": [],
   "source": [
    "# 标准化列名\n",
    "data.columns = ['user_id','item_id','behavior_type','cate','brand','date','hour']"
   ]
  },
  {
   "cell_type": "markdown",
   "metadata": {},
   "source": [
    "![Paste_Image.png](http://upload-images.jianshu.io/upload_images/1132123-86518acb2e1f623a.png?imageMogr2/auto-orient/strip%7CimageView2/2/w/1240)"
   ]
  },
  {
   "cell_type": "markdown",
   "metadata": {},
   "source": [
    "# feature"
   ]
  },
  {
   "cell_type": "markdown",
   "metadata": {},
   "source": [
    "# uif\n",
    "\n",
    "- 1:browse\n",
    "- 2:cart\n",
    "- 3:del_cart\n",
    "- 4:buy\n",
    "- 5:focus\n",
    "- 6:click"
   ]
  },
  {
   "cell_type": "code",
   "execution_count": 8,
   "metadata": {
    "collapsed": true
   },
   "outputs": [],
   "source": [
    "# 全局变量\n",
    "behavior_str = ['browse', 'cart', 'del_cart', 'buy','focus','click']"
   ]
  },
  {
   "cell_type": "code",
   "execution_count": 9,
   "metadata": {
    "collapsed": true
   },
   "outputs": [],
   "source": [
    "def behavior_diy_hour(df, date, hour, behavior = 1, windows_hour = 1, label = 'hour_%s_%s_%s'):\n",
    "    '''\n",
    "    按照给定的hour区间对行为计数\n",
    "    windows_hour: 1,2,3,4,6,8,12\n",
    "    rtype:DataFrame\n",
    "    '''\n",
    "\n",
    "    key = label %(str(hour), str(hour + windows_hour), behavior_str[behavior-1])\n",
    "    ret = df[df.date.eq(date)& df.behavior_type.eq(behavior) & df.hour.ge(str(hour)) & df.hour.lt(str(hour + windows_hour))]\\\n",
    "    .groupby(['user_id','item_id']).agg({'hour':'count'})\n",
    "    ret[key] = ret['hour']\n",
    "    return ret[[key]]"
   ]
  },
  {
   "cell_type": "code",
   "execution_count": 10,
   "metadata": {
    "collapsed": false
   },
   "outputs": [],
   "source": [
    "def behavior_times_date(df, date, behavior, label = None):\n",
    "    '''\n",
    "    把当天发生的行为的数量提取出来\n",
    "    rtype:DataFrame\n",
    "    '''\n",
    "    ret = df[df['date'].eq(date) & (df['behavior_type'].eq(behavior))].groupby(['user_id', 'item_id']).agg(\n",
    "        {'behavior_type':'count'})\n",
    "    key = \"behavior_times_date_%s_%s_times\" % (date, behavior_str[behavior - 1]) if label == None else label\n",
    "    ret[key] = ret['behavior_type']\n",
    "    return ret[[key]]"
   ]
  },
  {
   "cell_type": "code",
   "execution_count": 11,
   "metadata": {
    "collapsed": true
   },
   "outputs": [],
   "source": [
    "def behavior_first_time(df, date, behavior, label = None):\n",
    "    '''\n",
    "    提取指定行为最早发生时间(小时)\n",
    "    rtype:DataFrame\n",
    "    '''\n",
    "    ret = df[df.date.eq(date) & df.behavior_type.eq(behavior)].groupby(['user_id','item_id']).agg({'hour':'first'})\n",
    "    key = 'behavior_first_time_%s_%s_hour' % (date, behavior_str[behavior - 1]) if label is None else label\n",
    "    ret[key] = ret['hour'].apply(lambda x: int(x.split(':')[0]))\n",
    "    return ret[[key]]"
   ]
  },
  {
   "cell_type": "code",
   "execution_count": 12,
   "metadata": {
    "collapsed": false
   },
   "outputs": [],
   "source": [
    "def behavior_last_time(df, date, behavior, label = None):\n",
    "    '''\n",
    "    rtype:DataFrame\n",
    "    '''\n",
    "    ret = df[df.date.eq(date) & df.behavior_type.eq(behavior)].groupby(['user_id','item_id']).agg({'hour':'max'})\n",
    "    key = 'behavior_last_time_%s_%s_hour' % (date, behavior_str[behavior - 1]) if label is None else label\n",
    "    ret[key] = ret['hour'].apply(lambda x: int(x.split(':')[0]))\n",
    "    return ret[[key]]"
   ]
  },
  {
   "cell_type": "code",
   "execution_count": 13,
   "metadata": {
    "collapsed": true
   },
   "outputs": [],
   "source": [
    "def behavior_first_last_time(df, date, behavior, label = None):\n",
    "    '''\n",
    "    某个操作的操作时间最大间隔(单位秒)\n",
    "    rtype:DataFrame\n",
    "    '''\n",
    "    first = df[df.date.eq(date) & df.behavior_type.eq(behavior)].groupby(['user_id','item_id']).agg({'hour':'first'})\n",
    "    last = df[df.date.eq(date) & df.behavior_type.eq(behavior)].groupby(['user_id','item_id']).agg({'hour':'max'})\n",
    "    def cal(x):\n",
    "        h, m, s = x.split(':')\n",
    "        return int(h)*3600 + int(m)*60 + int(s)\n",
    "    key = 'behavior_first_last_time_%s_%s_second' % (date, behavior_str[behavior - 1]) if label is None else label\n",
    "    # print first['hour'].apply(lambda x: cal(x))\n",
    "    first[key] =  last['hour'].apply(lambda x: cal(x)) - first['hour'].apply(lambda x: cal(x))\n",
    "    return first[[key]]"
   ]
  },
  {
   "cell_type": "code",
   "execution_count": 14,
   "metadata": {
    "collapsed": false
   },
   "outputs": [],
   "source": [
    "def all_behavior_first_last_time(df, date, label = None):\n",
    "    '''\n",
    "    某个商品总的操作时间(单位秒),与行为无关\n",
    "    rtype:DataFrame\n",
    "    '''\n",
    "    first = df[df.date.eq(date) ].groupby(['user_id','item_id']).agg({'hour':'first'})\n",
    "    last = df[df.date.eq(date) ].groupby(['user_id','item_id']).agg({'hour':'max'})\n",
    "    def cal(x):\n",
    "        h, m, s = x.split(':')\n",
    "        return int(h)*3600 + int(m)*60 + int(s)\n",
    "    key = 'no_behavior_first_last_time_%s_second' % (date) if label is None else label\n",
    "    # print first['hour'].apply(lambda x: cal(x))\n",
    "    first[key] =  last['hour'].apply(lambda x: cal(x)) - first['hour'].apply(lambda x: cal(x))\n",
    "    return first[[key]]"
   ]
  },
  {
   "cell_type": "code",
   "execution_count": 15,
   "metadata": {
    "collapsed": false
   },
   "outputs": [],
   "source": [
    "def behavior_day_times(df, s_date, l_date ,behavior, label = None):\n",
    "    '''\n",
    "    在给定天数里面，所发生行为的天数\n",
    "    左开右闭\n",
    "    rtype:DataFrame\n",
    "    '''\n",
    "    def cal(series):\n",
    "        return len(series.unique())\n",
    "    ret = df[df.behavior_type.eq(behavior)& df.date.ge(s_date) & df.date.lt(l_date)].groupby(['user_id','item_id'])\\\n",
    "    .agg({'date':cal})\n",
    "    key = 'behavior_day_times_%s_%s_%s_days' % (s_date,l_date, behavior_str[behavior - 1]) if label is None else label\n",
    "    ret[key] = ret['date']\n",
    "    return ret[[key]]"
   ]
  },
  {
   "cell_type": "code",
   "execution_count": 16,
   "metadata": {
    "collapsed": true
   },
   "outputs": [],
   "source": [
    "def behavior_flag(df, s_date, l_date, behavior, label = None):\n",
    "    '''\n",
    "    在给定范围里，是否发生该行为\n",
    "    左开右闭\n",
    "    rtype:DataFrame\n",
    "    '''\n",
    "    def cal(series):\n",
    "        if behavior in series.unique():\n",
    "            return 1\n",
    "        return 0\n",
    "    ret = df[ df.date.ge(s_date) & df.date.lt(l_date)].groupby(['user_id','item_id'])\\\n",
    "    .agg({'behavior_type':cal})\n",
    "    key = 'behavior_flag_%s_%s_%s_days' % (s_date,l_date, behavior_str[behavior - 1]) if label is None else label\n",
    "    ret[key] = ret['behavior_type']\n",
    "    return ret[[key]]"
   ]
  },
  {
   "cell_type": "code",
   "execution_count": 17,
   "metadata": {
    "collapsed": false
   },
   "outputs": [],
   "source": [
    "def check_v(ui,ii):\n",
    "    # 用来测试函数\n",
    "    display(data[data.user_id.eq(ui) & data.item_id.eq(ii)])"
   ]
  },
  {
   "cell_type": "code",
   "execution_count": 18,
   "metadata": {
    "collapsed": true
   },
   "outputs": [],
   "source": [
    "def rule_last_time_behavior(df, date, behavior,label = None):\n",
    "    '''\n",
    "    在指定date的前一天是否在最后一刻加入购物车/focus/ｏｒ没有．\n",
    "    是:1\n",
    "    不是:0\n",
    "    date为label_day,我们要计算的是前一天.\n",
    "    rtype:DataFrame\n",
    "    '''\n",
    "    def cal(df):\n",
    "        temp = df.sort_values(['hour'])['behavior_type'].tail(1).values[0]\n",
    "        if temp == behavior:\n",
    "            return 1\n",
    "        return 0\n",
    "    date = (dt.datetime.strptime(date, '%Y-%m-%d') - dt.timedelta(1)).strftime('%Y-%m-%d')\n",
    "    p = df[df.date.eq(date)].groupby(['user_id','item_id']).apply(cal)\n",
    "    key = 'rule_last_time_behavior_%s_%s' % (date, behavior_str[behavior - 1]) if label is None else label \n",
    "    return pd.DataFrame(p.rename(key))"
   ]
  },
  {
   "cell_type": "code",
   "execution_count": 12,
   "metadata": {
    "collapsed": true
   },
   "outputs": [],
   "source": [
    "def get_action_feat(actions, start_date, end_date):\n",
    "    '''\n",
    "    各种行为在一段时间上的累积\n",
    "    rtype:DataFrame\n",
    "    '''\n",
    "    days = (dt.datetime.strptime(end_date, '%Y-%m-%d') - dt.datetime.strptime(start_date,'%Y-%m-%d')).days\n",
    "    actions = actions[(actions.date >= start_date) & (actions.date < end_date)]\n",
    "    \n",
    "    actions = actions[['user_id', 'item_id', 'behavior_type']]\n",
    "    df = pd.get_dummies(actions['behavior_type'], prefix='accumulate_%d-action' % (days))\n",
    "    print actions.head()\n",
    "    actions = pd.concat([actions[['user_id', 'item_id']], df], axis=1)  # type: pd.DataFrame\n",
    "    actions = actions.groupby(['user_id', 'item_id']).sum()\n",
    "    return actions"
   ]
  },
  {
   "cell_type": "code",
   "execution_count": 19,
   "metadata": {
    "collapsed": true
   },
   "outputs": [],
   "source": [
    "def get_accumulate_action_by_time(actions, start_date, end_date):\n",
    "    '''\n",
    "    各种行为随着时间衰减\n",
    "    rtype:DataFram\n",
    "    '''\n",
    "    days = (dt.datetime.strptime(end_date, '%Y-%m-%d') - dt.datetime.strptime(start_date,'%Y-%m-%d')).days\n",
    "    actions = actions[(actions.date >= start_date) & (actions.date < end_date)]\n",
    "    actions = actions[['user_id', 'item_id', 'behavior_type']]\n",
    "    df2 = pd.get_dummies(actions['behavior_type'], prefix='accumulate_by_time_%d-action' % (days))\n",
    "    actions['weight'] = np.exp(-days)\n",
    "    for i in df2.columns:\n",
    "        df2[i]*=actions['weight']\n",
    "    actions = pd.concat([actions[['user_id','item_id']], df2], axis=1)\n",
    "    actions = actions.groupby(['user_id', 'item_id']).sum()\n",
    "    return actions"
   ]
  },
  {
   "cell_type": "code",
   "execution_count": 19,
   "metadata": {
    "collapsed": true
   },
   "outputs": [],
   "source": [
    "def ranking(df):\n",
    "    '''\n",
    "    对给定的DataFrame进行排序，返回名字: col_name_rank\n",
    "    rtype:DataFrame\n",
    "    '''\n",
    "    ret = df.reset_index()\n",
    "    name = df.columns[-1]\n",
    "    ret[name + '_rank'] = ret.groupby(['user_id'])[name].rank(ascending=False,method='dense')\n",
    "    ret = ret.set_index(['user_id','item_id'])\n",
    "    return ret[[name + '_rank']]"
   ]
  },
  {
   "cell_type": "markdown",
   "metadata": {},
   "source": [
    "# tool"
   ]
  },
  {
   "cell_type": "code",
   "execution_count": 20,
   "metadata": {
    "collapsed": true
   },
   "outputs": [],
   "source": [
    "def extract_more_label(df, pred_date, more_day = 5):\n",
    "    '''\n",
    "    把pred_date这一天的label提取出来\n",
    "    左开右闭\n",
    "    '''\n",
    "    pred_end = (dt.datetime.strptime(pred_date, '%Y-%m-%d') + dt.timedelta(more_day)).strftime('%Y-%m-%d')\n",
    "    print pred_end\n",
    "    tlabel = df[df['date'].ge(pred_date) & df['date'].lt(pred_end)].groupby(['user_id', 'item_id']).apply(lambda x: np.sum(x == 4))\n",
    "    # print df[df['date'].ge(pred_date) & df['date'].lt(pred_end)].shape\n",
    "    tlabel['label'] = [1 if t >= 1 else 0 for t in tlabel['behavior_type']]\n",
    "    return tlabel['label']"
   ]
  },
  {
   "cell_type": "code",
   "execution_count": 21,
   "metadata": {
    "collapsed": true
   },
   "outputs": [],
   "source": [
    "def extract_label(df, pred_date):\n",
    "    '''\n",
    "    把pred_date这一天的label提取出来\n",
    "    '''\n",
    "    tlabel = df[(df['date'] == pred_date)].groupby(['user_id', 'item_id']).apply(lambda x: np.sum(x == 4))\n",
    "    tlabel['label'] = [1 if t >= 1 else 0 for t in tlabel['behavior_type']]\n",
    "    return tlabel['label']"
   ]
  },
  {
   "cell_type": "markdown",
   "metadata": {},
   "source": [
    "# do some testing\n",
    "- 加上滑窗\n",
    "\n",
    "-　behavior_diy_hour(df, date, hour, behavior = 1, windows_hour = 1, label = 'hour_%s_%s')\n",
    "\n",
    "-　behavior_times_date(df, date, behavior, label = None)\n",
    "\n",
    "-　behavior_first_time(df, date, behavior, label = None)\n",
    "\n",
    "-　behavior_last_time(df, date, behavior, label = None)\n",
    "\n",
    "-　behavior_first_last_time(df, date, behavior, label = None)\n",
    "\n",
    "-　all_behavior_first_last_time(df, date, label = None)\n",
    "\n",
    "-　behavior_day_times(df, s_date, l_date ,behavior, label = None)\n",
    "\n",
    "-　behavior_flag(df, s_date, l_date, behavior, label = None)\n",
    "\n",
    "-　rule_last_time_behavior(df, date, behavior,label = None)"
   ]
  },
  {
   "cell_type": "code",
   "execution_count": 22,
   "metadata": {
    "collapsed": true
   },
   "outputs": [],
   "source": [
    "def extract_user_item_windows(df, date, days = 5, detail_days = 2):\n",
    "    '''\n",
    "    滑动窗口，不取date这一天\n",
    "    '''\n",
    "    today = dt.datetime.strptime(date, '%Y-%m-%d') # today是考察日\n",
    "    prev_day = [(today - dt.timedelta(d+1)).strftime('%Y-%m-%d')\n",
    "               for d in xrange(days)]\n",
    "    \n",
    "    result = []\n",
    "    # 构建小时的行为数（浏览/加购/删除/下单/关注/点击的次数）\n",
    "    for day in xrange(detail_days):\n",
    "        for hour in xrange(24):\n",
    "            for behavior in range(6):\n",
    "                result.append(behavior_diy_hour(df, prev_day[day], hour, behavior = behavior+1,label='uif_hour_last_%d_%%s-%%s_%%s' % (day+1)))\n",
    "        \n",
    "\n",
    "            \n",
    "    # 构建天数的操作数,和时间层级的特征\n",
    "    for day in xrange(days):\n",
    "        for behavior in range(6):\n",
    "            result.append(behavior_first_time(df, prev_day[day], behavior+1,\n",
    "                                                  label=\"uif_first_%d_%s\" % (day+1, behavior_str[behavior ])))\n",
    "            result.append(behavior_last_time(df, prev_day[day], behavior+1,\n",
    "                                                  label='uif_last_%d_%s' %(day+1, behavior_str[behavior ])))\n",
    "            result.append(behavior_times_date(df, prev_day[day], behavior+1, \n",
    "                                              label=\"uif_behavior_times_%d_%s\" % (day+1, behavior_str[behavior])))\n",
    "            result.append(behavior_first_last_time(df, prev_day[day], behavior+1, \n",
    "                                                   label = 'uif_behavior_first_last_time_%d_%s' % (day+1, behavior_str[behavior])))\n",
    "        result.append(all_behavior_first_last_time(df, prev_day[day], \n",
    "                                                  label = 'uif_all_behavior_first_last_time_%d'%(day+1)))\n",
    "    # 左开右闭\n",
    "    s_date = (today - dt.timedelta(days)).strftime('%Y-%m-%d')\n",
    "    l_date = today.strftime('%Y-%m-%d')\n",
    "    for behavior in range(6):\n",
    "        result.append(behavior_day_times(df, s_date, l_date, behavior+1,\n",
    "                                        label = 'uif_behavior_day_times_%s'%(behavior_str[behavior])))\n",
    "        result.append(behavior_flag(df, s_date, l_date, behavior+1,\n",
    "                                        label = 'uif_behavior_flag_%s'%(behavior_str[behavior])))\n",
    "        result.append(rule_last_time_behavior(df, l_date, behavior+1,\n",
    "                                             label = 'uif_rule_last_time_behavior_%s'%(behavior_str[behavior]) ))\n",
    "        \n",
    "\n",
    "    rdf = reduce(lambda x, y: x.join(y, how='outer'), result).fillna(0) # 全连接\n",
    "    print 'rdf_shape: ',rdf.shape\n",
    "    \n",
    "    # ranking\n",
    "    rank_result = []\n",
    "    for col in rdf.columns:\n",
    "        # 对每小时的行为排序\n",
    "        if ('uif_hour_last' in col) and (('browse' in col) or('click' in col)):\n",
    "            rank_result.append(ranking(rdf[[col]]))\n",
    "        # 对每天的行为排序\n",
    "        elif ('uif_behavior_times' in col) and (('browse' in col) or ('click' in col)):\n",
    "            rank_result.append(ranking(rdf[[col]]))\n",
    "    \n",
    "    radf = reduce(lambda x,y: x.join(y, how = 'outer'), rank_result).fillna(0)\n",
    "    print 'radf_shape: ',radf.shape\n",
    "    \n",
    "    \n",
    "    return rdf.join(radf, how = 'left')"
   ]
  },
  {
   "cell_type": "code",
   "execution_count": 23,
   "metadata": {
    "collapsed": false
   },
   "outputs": [],
   "source": [
    "def extract_user_item_with_label(df, date, days=5, detail_days=1):\n",
    "    \"\"\"\n",
    "    与前者相同，但是加入了标签（正样本为 1，负样本为 0）。不同的是，这里抽取的特征所用的日期指的是标签的日期，即给定日前的前一天。\n",
    "    - 这里的train不取date这一天为train-set\n",
    "    :param df: 用户消费记录\n",
    "    :param date: 给定的日期（标签的日期）\n",
    "    :param days: 概要信息天数\n",
    "    :param detail_days: 细化到每小时行为的天数.\n",
    "    :return: 联合用户的测试。\n",
    "    :rtype: pd.DataFrame\n",
    "    \"\"\"\n",
    "    today = dt.datetime.strptime(date, '%Y-%m-%d')\n",
    "    training_data = extract_user_item_windows(df, date, days, detail_days) # days是说有多小个last day\n",
    "    # 添加类标\n",
    "    # tlabel = extract_label(df, date) 预测后一天\n",
    "    # 预测后五天\n",
    "    tlabel = extract_more_label(df, date)\n",
    "    return training_data.join(tlabel, how='left').fillna(0) # 只有30％左右的正样本出现在考察日之前"
   ]
  },
  {
   "cell_type": "code",
   "execution_count": null,
   "metadata": {
    "collapsed": true
   },
   "outputs": [],
   "source": [
    "# 可以写个for`循环来提取所有训练集"
   ]
  },
  {
   "cell_type": "code",
   "execution_count": 309,
   "metadata": {
    "collapsed": true
   },
   "outputs": [],
   "source": [
    "\n",
    "def training_validation(clf, traindata):\n",
    "    '''\n",
    "    clf:分类器\n",
    "    traindata:numpy array\n",
    "    '''\n",
    "    print clf\n",
    "    result = zip(traindata[:, -1].tolist(), clf.predict(traindata[:, :-1]).tolist())\n",
    "    print 'Actual:\\t', len(filter(lambda d: d[0]==1, result))\n",
    "    print 'Model:\\t', len(filter(lambda d: d[1]==1, result))\n",
    "    print 'Hit:\\t', len(filter(lambda d: d[0] == 1 and d[0] == d[1], result))"
   ]
  },
  {
   "cell_type": "code",
   "execution_count": 325,
   "metadata": {
    "collapsed": true
   },
   "outputs": [],
   "source": [
    "# 评测函数\n",
    "def sample_validation(y_test, y_pred, train_without):\n",
    "    '''\n",
    "    y_test: nnumpy array\n",
    "    y_pred: numpy array\n",
    "    train_without:列中含有user_id和item_id的DataFrame\n",
    "    '''\n",
    "    p_A_tr = np.sum(train_without.loc[y_pred==1].user_id.isin(train_without.loc[y_test ==1].user_id))\n",
    "    sub_all = len(y_pred)\n",
    "    A_tr = np.sum(y_test == 1)\n",
    "    p11 = p_A_tr / float(sub_all)\n",
    "    r11 = p_A_tr / float(A_tr)\n",
    "    F11 = 6 * r11 * p11 / (5 * r11 + p11)\n",
    "\n",
    "    # F12\n",
    "    p_iA_tr = np.sum((y_pred == y_test) & (y_pred == 1))\n",
    "    p12 = p_iA_tr / float(sub_all)\n",
    "    r12 = p_iA_tr / float(A_tr)\n",
    "    F12 = 5 * r12 * p12 / (2 * r12 + 3*p12)\n",
    "\n",
    "    F = 0.4 * F11 + 0.6 * F12\n",
    "\n",
    "\n",
    "    result = zip(y_test, y_pred.tolist())\n",
    "    print 'Actual:\\t', len(filter(lambda d: d[0]==1, result))\n",
    "    print 'Model:\\t', len(filter(lambda d: d[1]==1, result))\n",
    "    print 'Hit:\\t', len(filter(lambda d: d[0] == 1 and d[0] == d[1], result))\n",
    "    print 'F11: ', F11\n",
    "    print 'F12: ', F12\n",
    "    print 'F: ', F"
   ]
  },
  {
   "cell_type": "code",
   "execution_count": 339,
   "metadata": {
    "collapsed": false
   },
   "outputs": [
    {
     "name": "stdout",
     "output_type": "stream",
     "text": [
      "Actual:\t412\n",
      "Model:\t1856\n",
      "Hit:\t67\n",
      "F11:  0.000667808452547\n",
      "F12:  0.000948288551468\n",
      "F:  0.0008360965119\n"
     ]
    }
   ],
   "source": [
    "sample_validation(a.reset_index().label,clf.predict(a.drop('label', axis=1).values),a.reset_index())"
   ]
  },
  {
   "cell_type": "code",
   "execution_count": 323,
   "metadata": {
    "collapsed": false
   },
   "outputs": [
    {
     "name": "stdout",
     "output_type": "stream",
     "text": [
      "RandomForestClassifier(bootstrap=True, class_weight={0: 1, 1: 100},\n",
      "            criterion='gini', max_depth=10, max_features='auto',\n",
      "            max_leaf_nodes=None, min_impurity_split=1e-07,\n",
      "            min_samples_leaf=1, min_samples_split=2,\n",
      "            min_weight_fraction_leaf=0.0, n_estimators=100, n_jobs=1,\n",
      "            oob_score=False, random_state=None, verbose=0,\n",
      "            warm_start=False)\n",
      "Actual:\t412\n",
      "Model:\t1856\n",
      "Hit:\t67\n"
     ]
    }
   ],
   "source": [
    "training_validation(clf, a.values)"
   ]
  },
  {
   "cell_type": "code",
   "execution_count": 324,
   "metadata": {
    "collapsed": false
   },
   "outputs": [
    {
     "data": {
      "text/plain": [
       "[('uif_all_behavior_first_last_time_1', 0.048070137375339349),\n",
       " ('uif_behavior_day_times_browse', 0.040853140463115924),\n",
       " ('uif_behavior_first_last_time_1_browse', 0.040572201803783417),\n",
       " ('uif_behavior_first_last_time_1_click', 0.036222041599309508),\n",
       " ('uif_behavior_flag_cart', 0.035992611511771216),\n",
       " ('uif_behavior_times_1_click', 0.035379696553136303),\n",
       " ('uif_behavior_day_times_cart', 0.030591694739793351),\n",
       " ('uif_behavior_times_1_browse', 0.02726275522112875),\n",
       " ('uif_behavior_times_2_click', 0.017917288053179093),\n",
       " ('uif_behavior_first_last_time_2_click', 0.017392540755376096),\n",
       " ('uif_behavior_day_times_click', 0.016507919646641261),\n",
       " ('uif_last_1_browse', 0.016202969985238513),\n",
       " ('uif_behavior_first_last_time_2_browse', 0.01470572384856389),\n",
       " ('uif_behavior_times_1_click_rank', 0.014578812855042993),\n",
       " ('uif_first_1_cart', 0.014357571921237882),\n",
       " ('uif_all_behavior_first_last_time_2', 0.014071945777508858),\n",
       " ('uif_behavior_times_1_cart', 0.014000642186008634),\n",
       " ('uif_all_behavior_first_last_time_3', 0.013909164762917368),\n",
       " ('uif_last_1_cart', 0.013183711644516021),\n",
       " ('uif_hour_last_1_1-2_click', 0.013080374533597084),\n",
       " ('uif_first_1_click', 0.013012473503402336),\n",
       " ('uif_behavior_times_2_browse', 0.012418111890363926),\n",
       " ('uif_hour_last_1_1-2_browse', 0.011851539295848409),\n",
       " ('uif_behavior_times_4_click_rank', 0.011771114069537148),\n",
       " ('uif_first_1_browse', 0.011723219191391522),\n",
       " ('uif_behavior_first_last_time_3_click', 0.011632533613448823),\n",
       " ('uif_behavior_times_2_click_rank', 0.011224179787793533),\n",
       " ('uif_behavior_times_3_click_rank', 0.011173573563623142),\n",
       " ('uif_behavior_times_4_click', 0.010421845642288296),\n",
       " ('uif_behavior_times_3_browse', 0.010316656964409103),\n",
       " ('uif_behavior_times_3_click', 0.010202723595589703),\n",
       " ('uif_hour_last_1_2-3_click', 0.0097320429699451934),\n",
       " ('uif_last_2_click', 0.0094746360462484892),\n",
       " ('uif_behavior_times_5_click_rank', 0.0093241742557591094),\n",
       " ('uif_behavior_first_last_time_3_browse', 0.009206051290505491),\n",
       " ('uif_behavior_times_3_browse_rank', 0.0091788226254940035),\n",
       " ('uif_behavior_first_last_time_4_browse', 0.0087609313906109702),\n",
       " ('uif_all_behavior_first_last_time_4', 0.0086762330280013081),\n",
       " ('uif_behavior_times_1_browse_rank', 0.0085885932559066694),\n",
       " ('uif_last_1_click', 0.0082463622078437146),\n",
       " ('uif_behavior_times_2_browse_rank', 0.008199121727939471),\n",
       " ('uif_behavior_times_5_browse_rank', 0.0078769458346935831),\n",
       " ('uif_behavior_first_last_time_4_click', 0.0072723441610515506),\n",
       " ('uif_behavior_times_4_browse_rank', 0.0071786478850575175),\n",
       " ('uif_behavior_times_5_click', 0.0070791266115757681),\n",
       " ('uif_first_2_browse', 0.0070277269886386273),\n",
       " ('uif_last_2_browse', 0.0064724202143847899),\n",
       " ('uif_behavior_times_4_browse', 0.0060509351664199355),\n",
       " ('uif_rule_last_time_behavior_click', 0.0059667889541011434),\n",
       " ('uif_hour_last_1_1-2_click_rank', 0.0058950425787034433),\n",
       " ('uif_first_3_browse', 0.0058892134912718721),\n",
       " ('uif_all_behavior_first_last_time_5', 0.0057903131417763312),\n",
       " ('uif_first_2_click', 0.0055385187369902771),\n",
       " ('uif_behavior_flag_focus', 0.0055296954271519582),\n",
       " ('uif_hour_last_1_1-2_browse_rank', 0.0054520050013614051),\n",
       " ('uif_last_2_cart', 0.0053873291172792572),\n",
       " ('uif_behavior_day_times_focus', 0.0052013527185025797),\n",
       " ('uif_behavior_first_last_time_5_click', 0.0050745578879863706),\n",
       " ('uif_behavior_first_last_time_5_browse', 0.0050362126615456212),\n",
       " ('uif_last_3_browse', 0.0048107665641997661),\n",
       " ('uif_behavior_times_2_cart', 0.0047748609955726561),\n",
       " ('uif_hour_last_1_2-3_browse', 0.0045928647611850285),\n",
       " ('uif_last_4_click', 0.0044665163602153838),\n",
       " ('uif_behavior_times_5_browse', 0.0044497202388748443),\n",
       " ('uif_first_3_click', 0.0041517280683871002),\n",
       " ('uif_last_4_browse', 0.0041355876636829068),\n",
       " ('uif_first_2_cart', 0.0039885502411407207),\n",
       " ('uif_hour_last_1_2-3_click_rank', 0.003947818920515057),\n",
       " ('uif_last_3_click', 0.0037226917559059786),\n",
       " ('uif_first_4_browse', 0.0036277521847624698),\n",
       " ('uif_behavior_times_4_focus', 0.0036212560624963586),\n",
       " ('uif_hour_last_1_2-3_browse_rank', 0.0035915641944941987),\n",
       " ('uif_first_3_cart', 0.0035657806445817896),\n",
       " ('uif_first_4_click', 0.0031948791334978689),\n",
       " ('uif_last_3_cart', 0.0030927091384419115),\n",
       " ('uif_hour_last_1_1-2_cart', 0.0030448313488028334),\n",
       " ('uif_hour_last_1_0-1_click_rank', 0.0030328650133559587),\n",
       " ('uif_last_5_click', 0.0030197384302799255),\n",
       " ('uif_first_4_cart', 0.0029227354187448765),\n",
       " ('uif_last_4_cart', 0.0029027022045093115),\n",
       " ('uif_hour_last_1_0-1_click', 0.0027992204325707161),\n",
       " ('uif_last_5_browse', 0.0027851768931907357),\n",
       " ('uif_behavior_times_2_focus', 0.0027022510240513661),\n",
       " ('uif_first_5_click', 0.0026659971637352136),\n",
       " ('uif_hour_last_1_2-3_cart', 0.0026302003999927165),\n",
       " ('uif_hour_last_1_0-1_browse_rank', 0.0023975555966285833),\n",
       " ('uif_behavior_times_3_focus', 0.0021418255071970825),\n",
       " ('uif_first_5_browse', 0.0019795357916359405),\n",
       " ('uif_hour_last_1_20-21_click', 0.0019619726362077473),\n",
       " ('uif_behavior_day_times_del_cart', 0.0019274074775016755),\n",
       " ('uif_first_4_focus', 0.0018058097885434901),\n",
       " ('uif_behavior_day_times_buy', 0.001747347862756903),\n",
       " ('uif_first_5_cart', 0.001740088047036284),\n",
       " ('uif_hour_last_1_21-22_browse', 0.0017030444387116839),\n",
       " ('uif_behavior_times_3_cart', 0.0016963911979586443),\n",
       " ('uif_hour_last_1_0-1_browse', 0.0016310798340353643),\n",
       " ('uif_hour_last_1_23-24_browse_rank', 0.0016266834263016119),\n",
       " ('uif_behavior_times_4_cart', 0.0016159653018416756),\n",
       " ('uif_hour_last_1_18-19_click', 0.0015993219662311581),\n",
       " ('uif_hour_last_1_19-20_click', 0.0015915871342342652),\n",
       " ('uif_hour_last_1_21-22_click_rank', 0.0015841759824439152),\n",
       " ('uif_last_5_cart', 0.0015465979435634388),\n",
       " ('uif_rule_last_time_behavior_cart', 0.001512977793548002),\n",
       " ('uif_hour_last_1_19-20_browse', 0.0014563173422989023),\n",
       " ('uif_last_4_focus', 0.0014146401653150787),\n",
       " ('uif_hour_last_1_22-23_browse', 0.0013803528128304345),\n",
       " ('uif_rule_last_time_behavior_browse', 0.0013664948513221792),\n",
       " ('uif_first_2_focus', 0.001354601487395809),\n",
       " ('uif_hour_last_1_13-14_browse', 0.0013258682460346896),\n",
       " ('uif_hour_last_1_21-22_browse_rank', 0.0013152969597976856),\n",
       " ('uif_behavior_first_last_time_1_cart', 0.0013152203512971342),\n",
       " ('uif_behavior_flag_browse', 0.0013148493469434563),\n",
       " ('uif_behavior_flag_buy', 0.0012918256339872014),\n",
       " ('uif_hour_last_1_23-24_click', 0.0012735010463006732),\n",
       " ('uif_hour_last_1_22-23_browse_rank', 0.001251383864425988),\n",
       " ('uif_behavior_flag_del_cart', 0.0012477762719063808),\n",
       " ('uif_hour_last_1_20-21_click_rank', 0.00123305527619596),\n",
       " ('uif_hour_last_1_21-22_click', 0.0012327526248695339),\n",
       " ('uif_hour_last_1_0-1_cart', 0.0012026708880422603),\n",
       " ('uif_hour_last_1_12-13_click', 0.0011818696906469141),\n",
       " ('uif_hour_last_1_22-23_click_rank', 0.0011625087825498327),\n",
       " ('uif_hour_last_1_10-11_cart', 0.0011488485728826565),\n",
       " ('uif_hour_last_1_18-19_browse', 0.0011068390661649156),\n",
       " ('uif_hour_last_1_20-21_browse_rank', 0.0011047619795394169),\n",
       " ('uif_hour_last_1_15-16_click_rank', 0.0010974178818017183),\n",
       " ('uif_last_2_focus', 0.0010833293617591908),\n",
       " ('uif_hour_last_1_12-13_click_rank', 0.0010797681303307898),\n",
       " ('uif_hour_last_1_10-11_browse', 0.0010650121894115617),\n",
       " ('uif_first_3_focus', 0.0010608249710075408),\n",
       " ('uif_hour_last_1_11-12_click', 0.0010487041807703929),\n",
       " ('uif_hour_last_1_10-11_click', 0.001048398103115439),\n",
       " ('uif_hour_last_1_13-14_browse_rank', 0.0010259024547090169),\n",
       " ('uif_hour_last_1_14-15_click_rank', 0.0010111078006846753),\n",
       " ('uif_hour_last_1_13-14_click_rank', 0.00098358184183862038),\n",
       " ('uif_behavior_times_5_focus', 0.00096490393249696704),\n",
       " ('uif_behavior_times_5_cart', 0.00093684429986475764),\n",
       " ('uif_hour_last_1_15-16_browse', 0.00090700476001434843),\n",
       " ('uif_hour_last_1_16-17_browse', 0.00090406336449341731),\n",
       " ('uif_hour_last_1_23-24_browse', 0.00090303516964375841),\n",
       " ('uif_hour_last_1_14-15_browse_rank', 0.00088908056884385428),\n",
       " ('uif_behavior_times_1_focus', 0.00088743661219979402),\n",
       " ('uif_last_3_focus', 0.00084007066814098281),\n",
       " ('uif_hour_last_1_20-21_browse', 0.00082536849320135209),\n",
       " ('uif_hour_last_1_23-24_click_rank', 0.00082341333908179687),\n",
       " ('uif_hour_last_1_14-15_click', 0.00081427250350051754),\n",
       " ('uif_hour_last_1_22-23_click', 0.00080736913531212332),\n",
       " ('uif_hour_last_1_10-11_browse_rank', 0.00078271024403141307),\n",
       " ('uif_behavior_flag_click', 0.00077501359618582007),\n",
       " ('uif_hour_last_1_15-16_click', 0.00077013305573807908),\n",
       " ('uif_hour_last_1_23-24_cart', 0.00075601025994329887),\n",
       " ('uif_hour_last_1_11-12_browse', 0.00074051162479139756),\n",
       " ('uif_hour_last_1_18-19_click_rank', 0.00073976421147288636),\n",
       " ('uif_hour_last_1_16-17_click_rank', 0.00071278457493349876),\n",
       " ('uif_hour_last_1_17-18_click_rank', 0.00070357361913677937),\n",
       " ('uif_hour_last_1_13-14_click', 0.0007007028361780994),\n",
       " ('uif_first_1_focus', 0.00065616228296156668),\n",
       " ('uif_behavior_first_last_time_3_cart', 0.00065295080844185503),\n",
       " ('uif_hour_last_1_19-20_browse_rank', 0.00065196989947399156),\n",
       " ('uif_hour_last_1_15-16_browse_rank', 0.00065023015079637074),\n",
       " ('uif_hour_last_1_18-19_browse_rank', 0.00061899318218796749),\n",
       " ('uif_hour_last_1_11-12_click_rank', 0.00059150473863029079),\n",
       " ('uif_hour_last_1_12-13_browse', 0.00058807063939978225),\n",
       " ('uif_rule_last_time_behavior_del_cart', 0.000580760838276214),\n",
       " ('uif_hour_last_1_19-20_click_rank', 0.000571022719305686),\n",
       " ('uif_hour_last_1_17-18_browse_rank', 0.00056979192330587234),\n",
       " ('uif_hour_last_1_16-17_browse_rank', 0.00056571518394850557),\n",
       " ('uif_hour_last_1_0-1_focus', 0.00054635260742086909),\n",
       " ('uif_hour_last_1_12-13_cart', 0.00054293273639476882),\n",
       " ('uif_first_2_del_cart', 0.00053393532515462656),\n",
       " ('uif_hour_last_1_10-11_click_rank', 0.00052835452165620497),\n",
       " ('uif_last_2_del_cart', 0.00050667291675668229),\n",
       " ('uif_hour_last_1_11-12_browse_rank', 0.00049978512595479736),\n",
       " ('uif_hour_last_1_19-20_cart', 0.00046542161995958556),\n",
       " ('uif_hour_last_1_16-17_click', 0.00045605631457252535),\n",
       " ('uif_hour_last_1_14-15_browse', 0.00044708616235473119),\n",
       " ('uif_behavior_first_last_time_2_cart', 0.00043328420169836589),\n",
       " ('uif_hour_last_1_12-13_browse_rank', 0.00042481682571785228),\n",
       " ('uif_first_5_focus', 0.00042186661187996517),\n",
       " ('uif_hour_last_1_17-18_click', 0.00041395286010831577),\n",
       " ('uif_hour_last_1_17-18_browse', 0.00040778744936078594),\n",
       " ('uif_last_1_del_cart', 0.00040183697430271471),\n",
       " ('uif_last_1_focus', 0.00039242440325868171),\n",
       " ('uif_hour_last_1_2-3_focus', 0.00036870387682057666),\n",
       " ('uif_hour_last_1_15-16_cart', 0.00034638988836155441),\n",
       " ('uif_hour_last_1_21-22_cart', 0.00033362255307145121),\n",
       " ('uif_behavior_times_1_buy', 0.00033310137258048966),\n",
       " ('uif_first_1_del_cart', 0.00032463981738589583),\n",
       " ('uif_behavior_times_2_del_cart', 0.00031084010579674799),\n",
       " ('uif_behavior_times_1_del_cart', 0.00030910201591875059),\n",
       " ('uif_hour_last_1_17-18_cart', 0.00030491993930852372),\n",
       " ('uif_behavior_first_last_time_4_cart', 0.0002999782528218809),\n",
       " ('uif_hour_last_1_22-23_cart', 0.0002985213629634991),\n",
       " ('uif_first_4_del_cart', 0.00026836181604397643),\n",
       " ('uif_last_5_del_cart', 0.00024695561951048272),\n",
       " ('uif_behavior_times_4_del_cart', 0.00024174753838412469),\n",
       " ('uif_first_1_buy', 0.00022147472903045286),\n",
       " ('uif_first_3_del_cart', 0.00019605216538068508),\n",
       " ('uif_last_3_del_cart', 0.00019358315051938981),\n",
       " ('uif_hour_last_1_16-17_focus', 0.00019282251877695083),\n",
       " ('uif_behavior_times_3_del_cart', 0.00018484471208035348),\n",
       " ('uif_hour_last_1_1-2_buy', 0.00016842890371592884),\n",
       " ('uif_last_4_del_cart', 0.00016478480260084856),\n",
       " ('uif_hour_last_1_1-2_del_cart', 0.00015330145736895291),\n",
       " ('uif_first_2_buy', 0.00015254716443607926),\n",
       " ('uif_rule_last_time_behavior_focus', 0.00015047425724070362),\n",
       " ('uif_hour_last_1_1-2_focus', 0.00014820799792882023),\n",
       " ('uif_hour_last_1_13-14_cart', 0.00012407650919656532),\n",
       " ('uif_first_5_del_cart', 0.00011154002569733377),\n",
       " ('uif_behavior_times_2_buy', 0.00011126367367630698),\n",
       " ('uif_behavior_first_last_time_5_cart', 0.00010961900616809863),\n",
       " ('uif_last_1_buy', 0.00010077710044330409),\n",
       " ('uif_hour_last_1_20-21_focus', 9.832401085336831e-05),\n",
       " ('uif_hour_last_1_20-21_cart', 9.3387713818382691e-05),\n",
       " ('uif_behavior_times_5_del_cart', 8.0939341299975876e-05),\n",
       " ('uif_hour_last_1_2-3_del_cart', 7.9239899984515953e-05),\n",
       " ('uif_hour_last_1_16-17_cart', 7.5971315257180694e-05),\n",
       " ('uif_hour_last_1_11-12_cart', 7.3945068641379755e-05),\n",
       " ('uif_hour_last_1_18-19_cart', 7.0945587805996564e-05),\n",
       " ('uif_hour_last_1_14-15_del_cart', 5.9847429098903821e-05),\n",
       " ('uif_hour_last_1_14-15_cart', 5.8390529049796297e-05),\n",
       " ('uif_first_3_buy', 5.4837280198751575e-05),\n",
       " ('uif_last_5_focus', 5.4420146489322765e-05),\n",
       " ('uif_rule_last_time_behavior_buy', 4.8775083232137382e-05),\n",
       " ('uif_hour_last_1_23-24_del_cart', 4.4201550563660179e-05),\n",
       " ('uif_last_5_buy', 4.3993827400140674e-05),\n",
       " ('uif_hour_last_1_22-23_del_cart', 4.1651771817508706e-05),\n",
       " ('uif_hour_last_1_21-22_focus', 4.0922279847622362e-05),\n",
       " ('uif_last_4_buy', 3.997547685289795e-05),\n",
       " ('uif_behavior_times_5_buy', 3.8715482226077372e-05),\n",
       " ('uif_hour_last_1_23-24_focus', 2.7306291306695413e-05),\n",
       " ('uif_hour_last_1_14-15_focus', 2.5427147944252558e-05),\n",
       " ('uif_behavior_times_4_buy', 2.4920907586746956e-05),\n",
       " ('uif_last_2_buy', 2.3096788083971945e-05),\n",
       " ('uif_hour_last_1_2-3_buy', 1.6882983886362897e-05),\n",
       " ('uif_last_3_buy', 1.1557624862839285e-05),\n",
       " ('uif_hour_last_1_20-21_del_cart', 1.1198125457777563e-05),\n",
       " ('uif_first_4_buy', 1.039735897610449e-05),\n",
       " ('uif_behavior_times_3_buy', 6.8363905332702185e-06),\n",
       " ('uif_first_5_buy', 6.2067905162435825e-06),\n",
       " ('uif_behavior_first_last_time_1_del_cart', 4.5735206618908718e-06),\n",
       " ('uif_hour_last_1_12-13_del_cart', 4.4015212929173238e-06),\n",
       " ('uif_hour_last_1_0-1_del_cart', 2.2491476803227318e-06),\n",
       " ('uif_hour_last_1_15-16_del_cart', 1.6160110035032935e-06),\n",
       " ('uif_hour_last_1_21-22_del_cart', 1.5697764910155313e-06),\n",
       " ('uif_hour_last_1_10-11_buy', 1.3569817469029184e-06),\n",
       " ('uif_hour_last_1_22-23_focus', 1.1803147483404362e-06),\n",
       " ('uif_hour_last_1_18-19_del_cart', 1.113557679774796e-06),\n",
       " ('uif_hour_last_1_20-21_buy', 1.1132611494764761e-06),\n",
       " ('uif_hour_last_1_13-14_del_cart', 7.2568694577971327e-07),\n",
       " ('uif_hour_last_1_17-18_focus', 6.1673348551676313e-07),\n",
       " ('uif_behavior_first_last_time_2_del_cart', 4.1664203027404145e-09),\n",
       " ('uif_hour_last_1_0-1_buy', 0.0),\n",
       " ('uif_hour_last_1_3-4_browse', 0.0),\n",
       " ('uif_hour_last_1_3-4_cart', 0.0),\n",
       " ('uif_hour_last_1_3-4_del_cart', 0.0),\n",
       " ('uif_hour_last_1_3-4_buy', 0.0),\n",
       " ('uif_hour_last_1_3-4_focus', 0.0),\n",
       " ('uif_hour_last_1_3-4_click', 0.0),\n",
       " ('uif_hour_last_1_4-5_browse', 0.0),\n",
       " ('uif_hour_last_1_4-5_cart', 0.0),\n",
       " ('uif_hour_last_1_4-5_del_cart', 0.0),\n",
       " ('uif_hour_last_1_4-5_buy', 0.0),\n",
       " ('uif_hour_last_1_4-5_focus', 0.0),\n",
       " ('uif_hour_last_1_4-5_click', 0.0),\n",
       " ('uif_hour_last_1_5-6_browse', 0.0),\n",
       " ('uif_hour_last_1_5-6_cart', 0.0),\n",
       " ('uif_hour_last_1_5-6_del_cart', 0.0),\n",
       " ('uif_hour_last_1_5-6_buy', 0.0),\n",
       " ('uif_hour_last_1_5-6_focus', 0.0),\n",
       " ('uif_hour_last_1_5-6_click', 0.0),\n",
       " ('uif_hour_last_1_6-7_browse', 0.0),\n",
       " ('uif_hour_last_1_6-7_cart', 0.0),\n",
       " ('uif_hour_last_1_6-7_del_cart', 0.0),\n",
       " ('uif_hour_last_1_6-7_buy', 0.0),\n",
       " ('uif_hour_last_1_6-7_focus', 0.0),\n",
       " ('uif_hour_last_1_6-7_click', 0.0),\n",
       " ('uif_hour_last_1_7-8_browse', 0.0),\n",
       " ('uif_hour_last_1_7-8_cart', 0.0),\n",
       " ('uif_hour_last_1_7-8_del_cart', 0.0),\n",
       " ('uif_hour_last_1_7-8_buy', 0.0),\n",
       " ('uif_hour_last_1_7-8_focus', 0.0),\n",
       " ('uif_hour_last_1_7-8_click', 0.0),\n",
       " ('uif_hour_last_1_8-9_browse', 0.0),\n",
       " ('uif_hour_last_1_8-9_cart', 0.0),\n",
       " ('uif_hour_last_1_8-9_del_cart', 0.0),\n",
       " ('uif_hour_last_1_8-9_buy', 0.0),\n",
       " ('uif_hour_last_1_8-9_focus', 0.0),\n",
       " ('uif_hour_last_1_8-9_click', 0.0),\n",
       " ('uif_hour_last_1_9-10_browse', 0.0),\n",
       " ('uif_hour_last_1_9-10_cart', 0.0),\n",
       " ('uif_hour_last_1_9-10_del_cart', 0.0),\n",
       " ('uif_hour_last_1_9-10_buy', 0.0),\n",
       " ('uif_hour_last_1_9-10_focus', 0.0),\n",
       " ('uif_hour_last_1_9-10_click', 0.0),\n",
       " ('uif_hour_last_1_10-11_del_cart', 0.0),\n",
       " ('uif_hour_last_1_10-11_focus', 0.0),\n",
       " ('uif_hour_last_1_11-12_del_cart', 0.0),\n",
       " ('uif_hour_last_1_11-12_buy', 0.0),\n",
       " ('uif_hour_last_1_11-12_focus', 0.0),\n",
       " ('uif_hour_last_1_12-13_buy', 0.0),\n",
       " ('uif_hour_last_1_12-13_focus', 0.0),\n",
       " ('uif_hour_last_1_13-14_buy', 0.0),\n",
       " ('uif_hour_last_1_13-14_focus', 0.0),\n",
       " ('uif_hour_last_1_14-15_buy', 0.0),\n",
       " ('uif_hour_last_1_15-16_buy', 0.0),\n",
       " ('uif_hour_last_1_15-16_focus', 0.0),\n",
       " ('uif_hour_last_1_16-17_del_cart', 0.0),\n",
       " ('uif_hour_last_1_16-17_buy', 0.0),\n",
       " ('uif_hour_last_1_17-18_del_cart', 0.0),\n",
       " ('uif_hour_last_1_17-18_buy', 0.0),\n",
       " ('uif_hour_last_1_18-19_buy', 0.0),\n",
       " ('uif_hour_last_1_18-19_focus', 0.0),\n",
       " ('uif_hour_last_1_19-20_del_cart', 0.0),\n",
       " ('uif_hour_last_1_19-20_buy', 0.0),\n",
       " ('uif_hour_last_1_19-20_focus', 0.0),\n",
       " ('uif_hour_last_1_21-22_buy', 0.0),\n",
       " ('uif_hour_last_1_22-23_buy', 0.0),\n",
       " ('uif_hour_last_1_23-24_buy', 0.0),\n",
       " ('uif_behavior_first_last_time_1_buy', 0.0),\n",
       " ('uif_behavior_first_last_time_1_focus', 0.0),\n",
       " ('uif_behavior_first_last_time_2_buy', 0.0),\n",
       " ('uif_behavior_first_last_time_2_focus', 0.0),\n",
       " ('uif_behavior_first_last_time_3_del_cart', 0.0),\n",
       " ('uif_behavior_first_last_time_3_buy', 0.0),\n",
       " ('uif_behavior_first_last_time_3_focus', 0.0),\n",
       " ('uif_behavior_first_last_time_4_del_cart', 0.0),\n",
       " ('uif_behavior_first_last_time_4_buy', 0.0),\n",
       " ('uif_behavior_first_last_time_4_focus', 0.0),\n",
       " ('uif_behavior_first_last_time_5_del_cart', 0.0),\n",
       " ('uif_behavior_first_last_time_5_buy', 0.0),\n",
       " ('uif_behavior_first_last_time_5_focus', 0.0),\n",
       " ('uif_hour_last_1_3-4_browse_rank', 0.0),\n",
       " ('uif_hour_last_1_3-4_click_rank', 0.0),\n",
       " ('uif_hour_last_1_4-5_browse_rank', 0.0),\n",
       " ('uif_hour_last_1_4-5_click_rank', 0.0),\n",
       " ('uif_hour_last_1_5-6_browse_rank', 0.0),\n",
       " ('uif_hour_last_1_5-6_click_rank', 0.0),\n",
       " ('uif_hour_last_1_6-7_browse_rank', 0.0),\n",
       " ('uif_hour_last_1_6-7_click_rank', 0.0),\n",
       " ('uif_hour_last_1_7-8_browse_rank', 0.0),\n",
       " ('uif_hour_last_1_7-8_click_rank', 0.0),\n",
       " ('uif_hour_last_1_8-9_browse_rank', 0.0),\n",
       " ('uif_hour_last_1_8-9_click_rank', 0.0),\n",
       " ('uif_hour_last_1_9-10_browse_rank', 0.0),\n",
       " ('uif_hour_last_1_9-10_click_rank', 0.0)]"
      ]
     },
     "execution_count": 324,
     "metadata": {},
     "output_type": "execute_result"
    }
   ],
   "source": [
    "sorted(zip(a.drop('label',axis=1).columns,clf.feature_importances_), key = lambda x:x[1],reverse=True)"
   ]
  },
  {
   "cell_type": "markdown",
   "metadata": {},
   "source": [
    "# user-feature"
   ]
  },
  {
   "cell_type": "code",
   "execution_count": null,
   "metadata": {
    "collapsed": true
   },
   "outputs": [],
   "source": []
  },
  {
   "cell_type": "markdown",
   "metadata": {},
   "source": [
    "# item-feature"
   ]
  },
  {
   "cell_type": "code",
   "execution_count": null,
   "metadata": {
    "collapsed": true
   },
   "outputs": [],
   "source": []
  }
 ],
 "metadata": {
  "anaconda-cloud": {},
  "kernelspec": {
   "display_name": "Python [Root]",
   "language": "python",
   "name": "Python [Root]"
  },
  "language_info": {
   "codemirror_mode": {
    "name": "ipython",
    "version": 2
   },
   "file_extension": ".py",
   "mimetype": "text/x-python",
   "name": "python",
   "nbconvert_exporter": "python",
   "pygments_lexer": "ipython2",
   "version": "2.7.11"
  }
 },
 "nbformat": 4,
 "nbformat_minor": 0
}
